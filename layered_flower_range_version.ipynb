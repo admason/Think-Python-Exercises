{
 "cells": [
  {
   "cell_type": "code",
   "execution_count": 1,
   "metadata": {
    "scrolled": true
   },
   "outputs": [
    {
     "name": "stdout",
     "output_type": "stream",
     "text": [
      "radius?50\n",
      "petals?5\n",
      "Layers? 3\n"
     ]
    }
   ],
   "source": [
    "import turtle\n",
    "import math\n",
    "import numpy as np\n",
    "#angle=int(input(\"Angle?\"))\n",
    "r=int(input(\"radius?\"))\n",
    "n=int(input(\"petals?\"))\n",
    "angle=360/n\n",
    "def polyline(t, n, length, angle):\n",
    "    for i in range(n):\n",
    "        \n",
    "        t.fd(length)\n",
    "        t.lt(angle)\n",
    "ash=turtle.Turtle()\n",
    "#polyline(ash,n,r,angle)\n",
    "def arc(t, r, angle):\n",
    "    arc_length = 2 * math.pi * r * angle / 360\n",
    "    n = int(arc_length / 3) + 1\n",
    "    step_length = arc_length / n\n",
    "    step_angle = float(angle) / n\n",
    "    polyline(t, n, step_length, step_angle)\n",
    "ash=turtle.Turtle()\n",
    "def polygon(t, n, length):\n",
    "    angle = 360/n\n",
    "    polyline(t, n, length, angle)\n",
    "#polygon(ash,n,100)\n",
    "        \n",
    "#arc(ash,100,180)\n",
    "\n",
    "def petal(t,r,angle):\n",
    "    angle=360/n    \n",
    "    arc(t,r,angle)\n",
    "    t.lt(180-angle)\n",
    "    arc(t,r,angle)\n",
    "        \n",
    "ash = turtle.Turtle()\n",
    "#petal(ash,r, angle)\n",
    "\n",
    "def flower(t,r,n,angle):\n",
    "\n",
    "    for i in range(n):\n",
    "        \n",
    "        petal(t,r,angle)\n",
    "        t.rt(180-angle)\n",
    "        \n",
    "    #petal(t,r,angle)\n",
    "    #t.lt(angle)\n",
    "    #petal(t,r,angle)\n",
    "    #t.lt(angle)\n",
    "    #petal(t,r,angle)\n",
    "#flower(ash,r,n,angle)\n",
    "l=int(input(\"Layers? \"))+1\n",
    "\n",
    "#ranarr = np.random.randint(1,10,1)\n",
    "def bloom(t,r,n,angle,l):\n",
    "    for j in range(1,l,1):\n",
    "        flower(t,j*r,n,angle)\n",
    "        #turtle.color(\"blue\")\n",
    "        #flower(t,0.5*l*r,n,angle)\n",
    "        #flower(t,0.75*l*r,n,angle)\n",
    "        #flower(t,l*r,n,angle)\n",
    "        #flower(t,1.5*l*r,n,angle)\n",
    "bloom(ash,r,n,angle,l)\n",
    "\n",
    "ash.speed(10)\n",
    "\n"
   ]
  },
  {
   "cell_type": "code",
   "execution_count": null,
   "metadata": {},
   "outputs": [],
   "source": []
  },
  {
   "cell_type": "code",
   "execution_count": null,
   "metadata": {},
   "outputs": [],
   "source": []
  }
 ],
 "metadata": {
  "kernelspec": {
   "display_name": "Python 3",
   "language": "python",
   "name": "python3"
  },
  "language_info": {
   "codemirror_mode": {
    "name": "ipython",
    "version": 3
   },
   "file_extension": ".py",
   "mimetype": "text/x-python",
   "name": "python",
   "nbconvert_exporter": "python",
   "pygments_lexer": "ipython3",
   "version": "3.7.1"
  }
 },
 "nbformat": 4,
 "nbformat_minor": 2
}
